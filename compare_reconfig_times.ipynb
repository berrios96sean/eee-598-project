{
 "cells": [
  {
   "cell_type": "code",
   "execution_count": 67,
   "id": "5b10f992-e911-4908-99f0-a1defd8bc860",
   "metadata": {},
   "outputs": [
    {
     "name": "stderr",
     "output_type": "stream",
     "text": [
      "/usr/local/share/pynq-venv/lib/python3.10/site-packages/pynq/ps.py:434: UserWarning: Setting frequency to the closest possible value 98.8879MHz.\n",
      "  warnings.warn(\n"
     ]
    }
   ],
   "source": [
    "from pynq import Overlay, PL\n",
    "overlay = Overlay(\"pr_bitstreams/ensemble_bb.bit\")"
   ]
  },
  {
   "cell_type": "code",
   "execution_count": 68,
   "id": "e75f520c-f28b-49c8-9569-be161187017d",
   "metadata": {},
   "outputs": [
    {
     "name": "stdout",
     "output_type": "stream",
     "text": [
      "Reconfiguration time for bb: 0.61 seconds\n"
     ]
    }
   ],
   "source": [
    "import time\n",
    "\n",
    "start_time = time.time()\n",
    "\n",
    "overlay.download()\n",
    "\n",
    "end_time = time.time()\n",
    "\n",
    "config_time = end_time - start_time\n",
    "print(f\"Reconfiguration time for bb: {config_time:.2f} seconds\")\n"
   ]
  },
  {
   "cell_type": "code",
   "execution_count": 69,
   "id": "ef25f3cb-6cfe-4cbc-9d07-9844fe8e168f",
   "metadata": {},
   "outputs": [
    {
     "name": "stderr",
     "output_type": "stream",
     "text": [
      "/usr/local/share/pynq-venv/lib/python3.10/site-packages/pynq/ps.py:434: UserWarning: Setting frequency to the closest possible value 98.8879MHz.\n",
      "  warnings.warn(\n"
     ]
    },
    {
     "name": "stdout",
     "output_type": "stream",
     "text": [
      "Full Reconfiguration time for ensemble_1 : 1.14 seconds\n"
     ]
    },
    {
     "name": "stderr",
     "output_type": "stream",
     "text": [
      "/usr/local/share/pynq-venv/lib/python3.10/site-packages/pynq/ps.py:434: UserWarning: Setting frequency to the closest possible value 98.8879MHz.\n",
      "  warnings.warn(\n"
     ]
    },
    {
     "name": "stdout",
     "output_type": "stream",
     "text": [
      "Full Reconfiguration time for ensemble_2 : 1.15 seconds\n"
     ]
    },
    {
     "name": "stderr",
     "output_type": "stream",
     "text": [
      "/usr/local/share/pynq-venv/lib/python3.10/site-packages/pynq/ps.py:434: UserWarning: Setting frequency to the closest possible value 98.8879MHz.\n",
      "  warnings.warn(\n"
     ]
    },
    {
     "name": "stdout",
     "output_type": "stream",
     "text": [
      "Full Reconfiguration time for ensemble_3 : 1.50 seconds\n"
     ]
    },
    {
     "name": "stderr",
     "output_type": "stream",
     "text": [
      "/usr/local/share/pynq-venv/lib/python3.10/site-packages/pynq/ps.py:434: UserWarning: Setting frequency to the closest possible value 98.8879MHz.\n",
      "  warnings.warn(\n"
     ]
    },
    {
     "name": "stdout",
     "output_type": "stream",
     "text": [
      "Full Reconfiguration time for ensemble_4 : 1.58 seconds\n"
     ]
    },
    {
     "name": "stderr",
     "output_type": "stream",
     "text": [
      "/usr/local/share/pynq-venv/lib/python3.10/site-packages/pynq/ps.py:434: UserWarning: Setting frequency to the closest possible value 98.8879MHz.\n",
      "  warnings.warn(\n"
     ]
    },
    {
     "name": "stdout",
     "output_type": "stream",
     "text": [
      "Full Reconfiguration time for ensemble_5 : 1.49 seconds\n"
     ]
    },
    {
     "name": "stderr",
     "output_type": "stream",
     "text": [
      "/usr/local/share/pynq-venv/lib/python3.10/site-packages/pynq/ps.py:434: UserWarning: Setting frequency to the closest possible value 98.8879MHz.\n",
      "  warnings.warn(\n"
     ]
    },
    {
     "name": "stdout",
     "output_type": "stream",
     "text": [
      "Full Reconfiguration time for ensemble_6 : 1.61 seconds\n"
     ]
    },
    {
     "name": "stderr",
     "output_type": "stream",
     "text": [
      "/usr/local/share/pynq-venv/lib/python3.10/site-packages/pynq/ps.py:434: UserWarning: Setting frequency to the closest possible value 98.8879MHz.\n",
      "  warnings.warn(\n"
     ]
    },
    {
     "name": "stdout",
     "output_type": "stream",
     "text": [
      "Full Reconfiguration time for ensemble_7 : 1.05 seconds\n"
     ]
    },
    {
     "name": "stderr",
     "output_type": "stream",
     "text": [
      "/usr/local/share/pynq-venv/lib/python3.10/site-packages/pynq/ps.py:434: UserWarning: Setting frequency to the closest possible value 98.8879MHz.\n",
      "  warnings.warn(\n"
     ]
    },
    {
     "name": "stdout",
     "output_type": "stream",
     "text": [
      "Full Reconfiguration time for ensemble_8 : 0.97 seconds\n"
     ]
    },
    {
     "name": "stderr",
     "output_type": "stream",
     "text": [
      "/usr/local/share/pynq-venv/lib/python3.10/site-packages/pynq/ps.py:434: UserWarning: Setting frequency to the closest possible value 98.8879MHz.\n",
      "  warnings.warn(\n"
     ]
    },
    {
     "name": "stdout",
     "output_type": "stream",
     "text": [
      "Full Reconfiguration time for ensemble_9 : 1.56 seconds\n"
     ]
    },
    {
     "name": "stderr",
     "output_type": "stream",
     "text": [
      "/usr/local/share/pynq-venv/lib/python3.10/site-packages/pynq/ps.py:434: UserWarning: Setting frequency to the closest possible value 98.8879MHz.\n",
      "  warnings.warn(\n"
     ]
    },
    {
     "name": "stdout",
     "output_type": "stream",
     "text": [
      "Full Reconfiguration time for ensemble_10 : 1.13 seconds\n"
     ]
    }
   ],
   "source": [
    "# full_config_times = []\n",
    "full_config_times = {}\n",
    "full_config_times['ensemble_0'] = []\n",
    "for i in range(1, 11):\n",
    "    overlay = Overlay(f\"pr_bitstreams/ensemble_{i}.bit\")\n",
    "    start_time = time.time()\n",
    "    overlay.download()\n",
    "    end_time = time.time()\n",
    "    config_time = end_time - start_time\n",
    "    print(f\"Full Reconfiguration time for ensemble_{i} : {config_time:.2f} seconds\")\n",
    "    # full_config_times.append(config_time)\n",
    "    full_config_times['ensemble_0'].append(config_time)\n",
    "    "
   ]
  },
  {
   "cell_type": "code",
   "execution_count": 70,
   "id": "9311f3dc-74cd-418b-825b-8093f9edfed7",
   "metadata": {},
   "outputs": [
    {
     "name": "stderr",
     "output_type": "stream",
     "text": [
      "/usr/local/share/pynq-venv/lib/python3.10/site-packages/pynq/ps.py:434: UserWarning: Setting frequency to the closest possible value 98.8879MHz.\n",
      "  warnings.warn(\n",
      "/usr/local/share/pynq-venv/lib/python3.10/site-packages/pynq/ps.py:434: UserWarning: Setting frequency to the closest possible value 98.8879MHz.\n",
      "  warnings.warn(\n"
     ]
    },
    {
     "name": "stdout",
     "output_type": "stream",
     "text": [
      "Full Reconfiguration time for ensemble_1 from bb : 1.12 seconds\n"
     ]
    },
    {
     "name": "stderr",
     "output_type": "stream",
     "text": [
      "/usr/local/share/pynq-venv/lib/python3.10/site-packages/pynq/ps.py:434: UserWarning: Setting frequency to the closest possible value 98.8879MHz.\n",
      "  warnings.warn(\n"
     ]
    },
    {
     "name": "stdout",
     "output_type": "stream",
     "text": [
      "Full Reconfiguration time for ensemble_2 from bb : 1.17 seconds\n"
     ]
    },
    {
     "name": "stderr",
     "output_type": "stream",
     "text": [
      "/usr/local/share/pynq-venv/lib/python3.10/site-packages/pynq/ps.py:434: UserWarning: Setting frequency to the closest possible value 98.8879MHz.\n",
      "  warnings.warn(\n"
     ]
    },
    {
     "name": "stdout",
     "output_type": "stream",
     "text": [
      "Full Reconfiguration time for ensemble_3 from bb : 1.54 seconds\n"
     ]
    },
    {
     "name": "stderr",
     "output_type": "stream",
     "text": [
      "/usr/local/share/pynq-venv/lib/python3.10/site-packages/pynq/ps.py:434: UserWarning: Setting frequency to the closest possible value 98.8879MHz.\n",
      "  warnings.warn(\n"
     ]
    },
    {
     "name": "stdout",
     "output_type": "stream",
     "text": [
      "Full Reconfiguration time for ensemble_4 from bb : 1.08 seconds\n"
     ]
    },
    {
     "name": "stderr",
     "output_type": "stream",
     "text": [
      "/usr/local/share/pynq-venv/lib/python3.10/site-packages/pynq/ps.py:434: UserWarning: Setting frequency to the closest possible value 98.8879MHz.\n",
      "  warnings.warn(\n"
     ]
    },
    {
     "name": "stdout",
     "output_type": "stream",
     "text": [
      "Full Reconfiguration time for ensemble_5 from bb : 1.26 seconds\n"
     ]
    },
    {
     "name": "stderr",
     "output_type": "stream",
     "text": [
      "/usr/local/share/pynq-venv/lib/python3.10/site-packages/pynq/ps.py:434: UserWarning: Setting frequency to the closest possible value 98.8879MHz.\n",
      "  warnings.warn(\n"
     ]
    },
    {
     "name": "stdout",
     "output_type": "stream",
     "text": [
      "Full Reconfiguration time for ensemble_6 from bb : 1.27 seconds\n"
     ]
    },
    {
     "name": "stderr",
     "output_type": "stream",
     "text": [
      "/usr/local/share/pynq-venv/lib/python3.10/site-packages/pynq/ps.py:434: UserWarning: Setting frequency to the closest possible value 98.8879MHz.\n",
      "  warnings.warn(\n"
     ]
    },
    {
     "name": "stdout",
     "output_type": "stream",
     "text": [
      "Full Reconfiguration time for ensemble_7 from bb : 1.17 seconds\n"
     ]
    },
    {
     "name": "stderr",
     "output_type": "stream",
     "text": [
      "/usr/local/share/pynq-venv/lib/python3.10/site-packages/pynq/ps.py:434: UserWarning: Setting frequency to the closest possible value 98.8879MHz.\n",
      "  warnings.warn(\n"
     ]
    },
    {
     "name": "stdout",
     "output_type": "stream",
     "text": [
      "Full Reconfiguration time for ensemble_8 from bb : 1.63 seconds\n"
     ]
    },
    {
     "name": "stderr",
     "output_type": "stream",
     "text": [
      "/usr/local/share/pynq-venv/lib/python3.10/site-packages/pynq/ps.py:434: UserWarning: Setting frequency to the closest possible value 98.8879MHz.\n",
      "  warnings.warn(\n"
     ]
    },
    {
     "name": "stdout",
     "output_type": "stream",
     "text": [
      "Full Reconfiguration time for ensemble_9 from bb : 1.25 seconds\n"
     ]
    },
    {
     "name": "stderr",
     "output_type": "stream",
     "text": [
      "/usr/local/share/pynq-venv/lib/python3.10/site-packages/pynq/ps.py:434: UserWarning: Setting frequency to the closest possible value 98.8879MHz.\n",
      "  warnings.warn(\n"
     ]
    },
    {
     "name": "stdout",
     "output_type": "stream",
     "text": [
      "Full Reconfiguration time for ensemble_10 from bb : 0.86 seconds\n"
     ]
    }
   ],
   "source": [
    "# full_config_times_from_bb = []\n",
    "full_config_times['ensemble_bb'] = []\n",
    "\n",
    "overlay_base = Overlay(\"pr_bitstreams/ensemble_bb.bit\")\n",
    "overlay_base.download()\n",
    "for i in range(1, 11):\n",
    "    overlay = Overlay(f\"pr_bitstreams/ensemble_{i}.bit\")\n",
    "    start_time = time.time()\n",
    "    overlay.download()\n",
    "    end_time = time.time()\n",
    "    config_time = end_time - start_time\n",
    "    print(f\"Full Reconfiguration time for ensemble_{i} from bb : {config_time:.2f} seconds\")\n",
    "    full_config_times['ensemble_bb'].append(config_time)\n",
    "    overlay_base.download()"
   ]
  },
  {
   "cell_type": "code",
   "execution_count": 71,
   "id": "9ea66331-f82f-4129-be4f-a7d5bb7c64ac",
   "metadata": {},
   "outputs": [
    {
     "name": "stderr",
     "output_type": "stream",
     "text": [
      "/usr/local/share/pynq-venv/lib/python3.10/site-packages/pynq/ps.py:434: UserWarning: Setting frequency to the closest possible value 98.8879MHz.\n",
      "  warnings.warn(\n",
      "/usr/local/share/pynq-venv/lib/python3.10/site-packages/pynq/ps.py:434: UserWarning: Setting frequency to the closest possible value 98.8879MHz.\n",
      "  warnings.warn(\n"
     ]
    },
    {
     "name": "stdout",
     "output_type": "stream",
     "text": [
      "Full Reconfiguration time for ensemble_1 from en_1: 0.21 seconds\n"
     ]
    },
    {
     "name": "stderr",
     "output_type": "stream",
     "text": [
      "/usr/local/share/pynq-venv/lib/python3.10/site-packages/pynq/ps.py:434: UserWarning: Setting frequency to the closest possible value 98.8879MHz.\n",
      "  warnings.warn(\n"
     ]
    },
    {
     "name": "stdout",
     "output_type": "stream",
     "text": [
      "Full Reconfiguration time for ensemble_2 from en_1: 1.28 seconds\n"
     ]
    },
    {
     "name": "stderr",
     "output_type": "stream",
     "text": [
      "/usr/local/share/pynq-venv/lib/python3.10/site-packages/pynq/ps.py:434: UserWarning: Setting frequency to the closest possible value 98.8879MHz.\n",
      "  warnings.warn(\n"
     ]
    },
    {
     "name": "stdout",
     "output_type": "stream",
     "text": [
      "Full Reconfiguration time for ensemble_3 from en_1: 1.07 seconds\n"
     ]
    },
    {
     "name": "stderr",
     "output_type": "stream",
     "text": [
      "/usr/local/share/pynq-venv/lib/python3.10/site-packages/pynq/ps.py:434: UserWarning: Setting frequency to the closest possible value 98.8879MHz.\n",
      "  warnings.warn(\n"
     ]
    },
    {
     "name": "stdout",
     "output_type": "stream",
     "text": [
      "Full Reconfiguration time for ensemble_4 from en_1: 1.61 seconds\n"
     ]
    },
    {
     "name": "stderr",
     "output_type": "stream",
     "text": [
      "/usr/local/share/pynq-venv/lib/python3.10/site-packages/pynq/ps.py:434: UserWarning: Setting frequency to the closest possible value 98.8879MHz.\n",
      "  warnings.warn(\n"
     ]
    },
    {
     "name": "stdout",
     "output_type": "stream",
     "text": [
      "Full Reconfiguration time for ensemble_5 from en_1: 1.25 seconds\n"
     ]
    },
    {
     "name": "stderr",
     "output_type": "stream",
     "text": [
      "/usr/local/share/pynq-venv/lib/python3.10/site-packages/pynq/ps.py:434: UserWarning: Setting frequency to the closest possible value 98.8879MHz.\n",
      "  warnings.warn(\n"
     ]
    },
    {
     "name": "stdout",
     "output_type": "stream",
     "text": [
      "Full Reconfiguration time for ensemble_6 from en_1: 1.49 seconds\n"
     ]
    },
    {
     "name": "stderr",
     "output_type": "stream",
     "text": [
      "/usr/local/share/pynq-venv/lib/python3.10/site-packages/pynq/ps.py:434: UserWarning: Setting frequency to the closest possible value 98.8879MHz.\n",
      "  warnings.warn(\n"
     ]
    },
    {
     "name": "stdout",
     "output_type": "stream",
     "text": [
      "Full Reconfiguration time for ensemble_7 from en_1: 2.22 seconds\n"
     ]
    },
    {
     "name": "stderr",
     "output_type": "stream",
     "text": [
      "/usr/local/share/pynq-venv/lib/python3.10/site-packages/pynq/ps.py:434: UserWarning: Setting frequency to the closest possible value 98.8879MHz.\n",
      "  warnings.warn(\n"
     ]
    },
    {
     "name": "stdout",
     "output_type": "stream",
     "text": [
      "Full Reconfiguration time for ensemble_8 from en_1: 1.31 seconds\n"
     ]
    },
    {
     "name": "stderr",
     "output_type": "stream",
     "text": [
      "/usr/local/share/pynq-venv/lib/python3.10/site-packages/pynq/ps.py:434: UserWarning: Setting frequency to the closest possible value 98.8879MHz.\n",
      "  warnings.warn(\n"
     ]
    },
    {
     "name": "stdout",
     "output_type": "stream",
     "text": [
      "Full Reconfiguration time for ensemble_9 from en_1: 1.35 seconds\n"
     ]
    },
    {
     "name": "stderr",
     "output_type": "stream",
     "text": [
      "/usr/local/share/pynq-venv/lib/python3.10/site-packages/pynq/ps.py:434: UserWarning: Setting frequency to the closest possible value 98.8879MHz.\n",
      "  warnings.warn(\n"
     ]
    },
    {
     "name": "stdout",
     "output_type": "stream",
     "text": [
      "Full Reconfiguration time for ensemble_10 from en_1: 1.67 seconds\n",
      "----------------------------------------------\n"
     ]
    },
    {
     "name": "stderr",
     "output_type": "stream",
     "text": [
      "/usr/local/share/pynq-venv/lib/python3.10/site-packages/pynq/ps.py:434: UserWarning: Setting frequency to the closest possible value 98.8879MHz.\n",
      "  warnings.warn(\n",
      "/usr/local/share/pynq-venv/lib/python3.10/site-packages/pynq/ps.py:434: UserWarning: Setting frequency to the closest possible value 98.8879MHz.\n",
      "  warnings.warn(\n"
     ]
    },
    {
     "name": "stdout",
     "output_type": "stream",
     "text": [
      "Full Reconfiguration time for ensemble_1 from en_2: 1.15 seconds\n"
     ]
    },
    {
     "name": "stderr",
     "output_type": "stream",
     "text": [
      "/usr/local/share/pynq-venv/lib/python3.10/site-packages/pynq/ps.py:434: UserWarning: Setting frequency to the closest possible value 98.8879MHz.\n",
      "  warnings.warn(\n"
     ]
    },
    {
     "name": "stdout",
     "output_type": "stream",
     "text": [
      "Full Reconfiguration time for ensemble_2 from en_2: 0.22 seconds\n"
     ]
    },
    {
     "name": "stderr",
     "output_type": "stream",
     "text": [
      "/usr/local/share/pynq-venv/lib/python3.10/site-packages/pynq/ps.py:434: UserWarning: Setting frequency to the closest possible value 98.8879MHz.\n",
      "  warnings.warn(\n"
     ]
    },
    {
     "name": "stdout",
     "output_type": "stream",
     "text": [
      "Full Reconfiguration time for ensemble_3 from en_2: 1.50 seconds\n"
     ]
    },
    {
     "name": "stderr",
     "output_type": "stream",
     "text": [
      "/usr/local/share/pynq-venv/lib/python3.10/site-packages/pynq/ps.py:434: UserWarning: Setting frequency to the closest possible value 98.8879MHz.\n",
      "  warnings.warn(\n"
     ]
    },
    {
     "name": "stdout",
     "output_type": "stream",
     "text": [
      "Full Reconfiguration time for ensemble_4 from en_2: 1.38 seconds\n"
     ]
    },
    {
     "name": "stderr",
     "output_type": "stream",
     "text": [
      "/usr/local/share/pynq-venv/lib/python3.10/site-packages/pynq/ps.py:434: UserWarning: Setting frequency to the closest possible value 98.8879MHz.\n",
      "  warnings.warn(\n"
     ]
    },
    {
     "name": "stdout",
     "output_type": "stream",
     "text": [
      "Full Reconfiguration time for ensemble_5 from en_2: 1.65 seconds\n"
     ]
    },
    {
     "name": "stderr",
     "output_type": "stream",
     "text": [
      "/usr/local/share/pynq-venv/lib/python3.10/site-packages/pynq/ps.py:434: UserWarning: Setting frequency to the closest possible value 98.8879MHz.\n",
      "  warnings.warn(\n"
     ]
    },
    {
     "name": "stdout",
     "output_type": "stream",
     "text": [
      "Full Reconfiguration time for ensemble_6 from en_2: 1.24 seconds\n"
     ]
    },
    {
     "name": "stderr",
     "output_type": "stream",
     "text": [
      "/usr/local/share/pynq-venv/lib/python3.10/site-packages/pynq/ps.py:434: UserWarning: Setting frequency to the closest possible value 98.8879MHz.\n",
      "  warnings.warn(\n"
     ]
    },
    {
     "name": "stdout",
     "output_type": "stream",
     "text": [
      "Full Reconfiguration time for ensemble_7 from en_2: 1.14 seconds\n"
     ]
    },
    {
     "name": "stderr",
     "output_type": "stream",
     "text": [
      "/usr/local/share/pynq-venv/lib/python3.10/site-packages/pynq/ps.py:434: UserWarning: Setting frequency to the closest possible value 98.8879MHz.\n",
      "  warnings.warn(\n"
     ]
    },
    {
     "name": "stdout",
     "output_type": "stream",
     "text": [
      "Full Reconfiguration time for ensemble_8 from en_2: 1.84 seconds\n"
     ]
    },
    {
     "name": "stderr",
     "output_type": "stream",
     "text": [
      "/usr/local/share/pynq-venv/lib/python3.10/site-packages/pynq/ps.py:434: UserWarning: Setting frequency to the closest possible value 98.8879MHz.\n",
      "  warnings.warn(\n"
     ]
    },
    {
     "name": "stdout",
     "output_type": "stream",
     "text": [
      "Full Reconfiguration time for ensemble_9 from en_2: 1.64 seconds\n"
     ]
    },
    {
     "name": "stderr",
     "output_type": "stream",
     "text": [
      "/usr/local/share/pynq-venv/lib/python3.10/site-packages/pynq/ps.py:434: UserWarning: Setting frequency to the closest possible value 98.8879MHz.\n",
      "  warnings.warn(\n"
     ]
    },
    {
     "name": "stdout",
     "output_type": "stream",
     "text": [
      "Full Reconfiguration time for ensemble_10 from en_2: 1.28 seconds\n",
      "----------------------------------------------\n"
     ]
    },
    {
     "name": "stderr",
     "output_type": "stream",
     "text": [
      "/usr/local/share/pynq-venv/lib/python3.10/site-packages/pynq/ps.py:434: UserWarning: Setting frequency to the closest possible value 98.8879MHz.\n",
      "  warnings.warn(\n",
      "/usr/local/share/pynq-venv/lib/python3.10/site-packages/pynq/ps.py:434: UserWarning: Setting frequency to the closest possible value 98.8879MHz.\n",
      "  warnings.warn(\n"
     ]
    },
    {
     "name": "stdout",
     "output_type": "stream",
     "text": [
      "Full Reconfiguration time for ensemble_1 from en_3: 0.92 seconds\n"
     ]
    },
    {
     "name": "stderr",
     "output_type": "stream",
     "text": [
      "/usr/local/share/pynq-venv/lib/python3.10/site-packages/pynq/ps.py:434: UserWarning: Setting frequency to the closest possible value 98.8879MHz.\n",
      "  warnings.warn(\n"
     ]
    },
    {
     "name": "stdout",
     "output_type": "stream",
     "text": [
      "Full Reconfiguration time for ensemble_2 from en_3: 1.00 seconds\n"
     ]
    },
    {
     "name": "stderr",
     "output_type": "stream",
     "text": [
      "/usr/local/share/pynq-venv/lib/python3.10/site-packages/pynq/ps.py:434: UserWarning: Setting frequency to the closest possible value 98.8879MHz.\n",
      "  warnings.warn(\n"
     ]
    },
    {
     "name": "stdout",
     "output_type": "stream",
     "text": [
      "Full Reconfiguration time for ensemble_3 from en_3: 0.21 seconds\n"
     ]
    },
    {
     "name": "stderr",
     "output_type": "stream",
     "text": [
      "/usr/local/share/pynq-venv/lib/python3.10/site-packages/pynq/ps.py:434: UserWarning: Setting frequency to the closest possible value 98.8879MHz.\n",
      "  warnings.warn(\n"
     ]
    },
    {
     "name": "stdout",
     "output_type": "stream",
     "text": [
      "Full Reconfiguration time for ensemble_4 from en_3: 1.25 seconds\n"
     ]
    },
    {
     "name": "stderr",
     "output_type": "stream",
     "text": [
      "/usr/local/share/pynq-venv/lib/python3.10/site-packages/pynq/ps.py:434: UserWarning: Setting frequency to the closest possible value 98.8879MHz.\n",
      "  warnings.warn(\n"
     ]
    },
    {
     "name": "stdout",
     "output_type": "stream",
     "text": [
      "Full Reconfiguration time for ensemble_5 from en_3: 1.23 seconds\n"
     ]
    },
    {
     "name": "stderr",
     "output_type": "stream",
     "text": [
      "/usr/local/share/pynq-venv/lib/python3.10/site-packages/pynq/ps.py:434: UserWarning: Setting frequency to the closest possible value 98.8879MHz.\n",
      "  warnings.warn(\n"
     ]
    },
    {
     "name": "stdout",
     "output_type": "stream",
     "text": [
      "Full Reconfiguration time for ensemble_6 from en_3: 1.11 seconds\n"
     ]
    },
    {
     "name": "stderr",
     "output_type": "stream",
     "text": [
      "/usr/local/share/pynq-venv/lib/python3.10/site-packages/pynq/ps.py:434: UserWarning: Setting frequency to the closest possible value 98.8879MHz.\n",
      "  warnings.warn(\n"
     ]
    },
    {
     "name": "stdout",
     "output_type": "stream",
     "text": [
      "Full Reconfiguration time for ensemble_7 from en_3: 0.91 seconds\n"
     ]
    },
    {
     "name": "stderr",
     "output_type": "stream",
     "text": [
      "/usr/local/share/pynq-venv/lib/python3.10/site-packages/pynq/ps.py:434: UserWarning: Setting frequency to the closest possible value 98.8879MHz.\n",
      "  warnings.warn(\n"
     ]
    },
    {
     "name": "stdout",
     "output_type": "stream",
     "text": [
      "Full Reconfiguration time for ensemble_8 from en_3: 1.45 seconds\n"
     ]
    },
    {
     "name": "stderr",
     "output_type": "stream",
     "text": [
      "/usr/local/share/pynq-venv/lib/python3.10/site-packages/pynq/ps.py:434: UserWarning: Setting frequency to the closest possible value 98.8879MHz.\n",
      "  warnings.warn(\n"
     ]
    },
    {
     "name": "stdout",
     "output_type": "stream",
     "text": [
      "Full Reconfiguration time for ensemble_9 from en_3: 1.14 seconds\n"
     ]
    },
    {
     "name": "stderr",
     "output_type": "stream",
     "text": [
      "/usr/local/share/pynq-venv/lib/python3.10/site-packages/pynq/ps.py:434: UserWarning: Setting frequency to the closest possible value 98.8879MHz.\n",
      "  warnings.warn(\n"
     ]
    },
    {
     "name": "stdout",
     "output_type": "stream",
     "text": [
      "Full Reconfiguration time for ensemble_10 from en_3: 0.99 seconds\n",
      "----------------------------------------------\n"
     ]
    },
    {
     "name": "stderr",
     "output_type": "stream",
     "text": [
      "/usr/local/share/pynq-venv/lib/python3.10/site-packages/pynq/ps.py:434: UserWarning: Setting frequency to the closest possible value 98.8879MHz.\n",
      "  warnings.warn(\n",
      "/usr/local/share/pynq-venv/lib/python3.10/site-packages/pynq/ps.py:434: UserWarning: Setting frequency to the closest possible value 98.8879MHz.\n",
      "  warnings.warn(\n"
     ]
    },
    {
     "name": "stdout",
     "output_type": "stream",
     "text": [
      "Full Reconfiguration time for ensemble_1 from en_4: 1.98 seconds\n"
     ]
    },
    {
     "name": "stderr",
     "output_type": "stream",
     "text": [
      "/usr/local/share/pynq-venv/lib/python3.10/site-packages/pynq/ps.py:434: UserWarning: Setting frequency to the closest possible value 98.8879MHz.\n",
      "  warnings.warn(\n"
     ]
    },
    {
     "name": "stdout",
     "output_type": "stream",
     "text": [
      "Full Reconfiguration time for ensemble_2 from en_4: 1.07 seconds\n"
     ]
    },
    {
     "name": "stderr",
     "output_type": "stream",
     "text": [
      "/usr/local/share/pynq-venv/lib/python3.10/site-packages/pynq/ps.py:434: UserWarning: Setting frequency to the closest possible value 98.8879MHz.\n",
      "  warnings.warn(\n"
     ]
    },
    {
     "name": "stdout",
     "output_type": "stream",
     "text": [
      "Full Reconfiguration time for ensemble_3 from en_4: 1.13 seconds\n"
     ]
    },
    {
     "name": "stderr",
     "output_type": "stream",
     "text": [
      "/usr/local/share/pynq-venv/lib/python3.10/site-packages/pynq/ps.py:434: UserWarning: Setting frequency to the closest possible value 98.8879MHz.\n",
      "  warnings.warn(\n"
     ]
    },
    {
     "name": "stdout",
     "output_type": "stream",
     "text": [
      "Full Reconfiguration time for ensemble_4 from en_4: 0.22 seconds\n"
     ]
    },
    {
     "name": "stderr",
     "output_type": "stream",
     "text": [
      "/usr/local/share/pynq-venv/lib/python3.10/site-packages/pynq/ps.py:434: UserWarning: Setting frequency to the closest possible value 98.8879MHz.\n",
      "  warnings.warn(\n"
     ]
    },
    {
     "name": "stdout",
     "output_type": "stream",
     "text": [
      "Full Reconfiguration time for ensemble_5 from en_4: 1.37 seconds\n"
     ]
    },
    {
     "name": "stderr",
     "output_type": "stream",
     "text": [
      "/usr/local/share/pynq-venv/lib/python3.10/site-packages/pynq/ps.py:434: UserWarning: Setting frequency to the closest possible value 98.8879MHz.\n",
      "  warnings.warn(\n"
     ]
    },
    {
     "name": "stdout",
     "output_type": "stream",
     "text": [
      "Full Reconfiguration time for ensemble_6 from en_4: 1.93 seconds\n"
     ]
    },
    {
     "name": "stderr",
     "output_type": "stream",
     "text": [
      "/usr/local/share/pynq-venv/lib/python3.10/site-packages/pynq/ps.py:434: UserWarning: Setting frequency to the closest possible value 98.8879MHz.\n",
      "  warnings.warn(\n"
     ]
    },
    {
     "name": "stdout",
     "output_type": "stream",
     "text": [
      "Full Reconfiguration time for ensemble_7 from en_4: 1.04 seconds\n"
     ]
    },
    {
     "name": "stderr",
     "output_type": "stream",
     "text": [
      "/usr/local/share/pynq-venv/lib/python3.10/site-packages/pynq/ps.py:434: UserWarning: Setting frequency to the closest possible value 98.8879MHz.\n",
      "  warnings.warn(\n"
     ]
    },
    {
     "name": "stdout",
     "output_type": "stream",
     "text": [
      "Full Reconfiguration time for ensemble_8 from en_4: 1.44 seconds\n"
     ]
    },
    {
     "name": "stderr",
     "output_type": "stream",
     "text": [
      "/usr/local/share/pynq-venv/lib/python3.10/site-packages/pynq/ps.py:434: UserWarning: Setting frequency to the closest possible value 98.8879MHz.\n",
      "  warnings.warn(\n"
     ]
    },
    {
     "name": "stdout",
     "output_type": "stream",
     "text": [
      "Full Reconfiguration time for ensemble_9 from en_4: 2.19 seconds\n"
     ]
    },
    {
     "name": "stderr",
     "output_type": "stream",
     "text": [
      "/usr/local/share/pynq-venv/lib/python3.10/site-packages/pynq/ps.py:434: UserWarning: Setting frequency to the closest possible value 98.8879MHz.\n",
      "  warnings.warn(\n"
     ]
    },
    {
     "name": "stdout",
     "output_type": "stream",
     "text": [
      "Full Reconfiguration time for ensemble_10 from en_4: 0.88 seconds\n",
      "----------------------------------------------\n"
     ]
    },
    {
     "name": "stderr",
     "output_type": "stream",
     "text": [
      "/usr/local/share/pynq-venv/lib/python3.10/site-packages/pynq/ps.py:434: UserWarning: Setting frequency to the closest possible value 98.8879MHz.\n",
      "  warnings.warn(\n",
      "/usr/local/share/pynq-venv/lib/python3.10/site-packages/pynq/ps.py:434: UserWarning: Setting frequency to the closest possible value 98.8879MHz.\n",
      "  warnings.warn(\n"
     ]
    },
    {
     "name": "stdout",
     "output_type": "stream",
     "text": [
      "Full Reconfiguration time for ensemble_1 from en_5: 1.19 seconds\n"
     ]
    },
    {
     "name": "stderr",
     "output_type": "stream",
     "text": [
      "/usr/local/share/pynq-venv/lib/python3.10/site-packages/pynq/ps.py:434: UserWarning: Setting frequency to the closest possible value 98.8879MHz.\n",
      "  warnings.warn(\n"
     ]
    },
    {
     "name": "stdout",
     "output_type": "stream",
     "text": [
      "Full Reconfiguration time for ensemble_2 from en_5: 1.17 seconds\n"
     ]
    },
    {
     "name": "stderr",
     "output_type": "stream",
     "text": [
      "/usr/local/share/pynq-venv/lib/python3.10/site-packages/pynq/ps.py:434: UserWarning: Setting frequency to the closest possible value 98.8879MHz.\n",
      "  warnings.warn(\n"
     ]
    },
    {
     "name": "stdout",
     "output_type": "stream",
     "text": [
      "Full Reconfiguration time for ensemble_3 from en_5: 1.28 seconds\n"
     ]
    },
    {
     "name": "stderr",
     "output_type": "stream",
     "text": [
      "/usr/local/share/pynq-venv/lib/python3.10/site-packages/pynq/ps.py:434: UserWarning: Setting frequency to the closest possible value 98.8879MHz.\n",
      "  warnings.warn(\n"
     ]
    },
    {
     "name": "stdout",
     "output_type": "stream",
     "text": [
      "Full Reconfiguration time for ensemble_4 from en_5: 1.33 seconds\n"
     ]
    },
    {
     "name": "stderr",
     "output_type": "stream",
     "text": [
      "/usr/local/share/pynq-venv/lib/python3.10/site-packages/pynq/ps.py:434: UserWarning: Setting frequency to the closest possible value 98.8879MHz.\n",
      "  warnings.warn(\n"
     ]
    },
    {
     "name": "stdout",
     "output_type": "stream",
     "text": [
      "Full Reconfiguration time for ensemble_5 from en_5: 0.21 seconds\n"
     ]
    },
    {
     "name": "stderr",
     "output_type": "stream",
     "text": [
      "/usr/local/share/pynq-venv/lib/python3.10/site-packages/pynq/ps.py:434: UserWarning: Setting frequency to the closest possible value 98.8879MHz.\n",
      "  warnings.warn(\n"
     ]
    },
    {
     "name": "stdout",
     "output_type": "stream",
     "text": [
      "Full Reconfiguration time for ensemble_6 from en_5: 1.32 seconds\n"
     ]
    },
    {
     "name": "stderr",
     "output_type": "stream",
     "text": [
      "/usr/local/share/pynq-venv/lib/python3.10/site-packages/pynq/ps.py:434: UserWarning: Setting frequency to the closest possible value 98.8879MHz.\n",
      "  warnings.warn(\n"
     ]
    },
    {
     "name": "stdout",
     "output_type": "stream",
     "text": [
      "Full Reconfiguration time for ensemble_7 from en_5: 1.07 seconds\n"
     ]
    },
    {
     "name": "stderr",
     "output_type": "stream",
     "text": [
      "/usr/local/share/pynq-venv/lib/python3.10/site-packages/pynq/ps.py:434: UserWarning: Setting frequency to the closest possible value 98.8879MHz.\n",
      "  warnings.warn(\n"
     ]
    },
    {
     "name": "stdout",
     "output_type": "stream",
     "text": [
      "Full Reconfiguration time for ensemble_8 from en_5: 1.12 seconds\n"
     ]
    },
    {
     "name": "stderr",
     "output_type": "stream",
     "text": [
      "/usr/local/share/pynq-venv/lib/python3.10/site-packages/pynq/ps.py:434: UserWarning: Setting frequency to the closest possible value 98.8879MHz.\n",
      "  warnings.warn(\n"
     ]
    },
    {
     "name": "stdout",
     "output_type": "stream",
     "text": [
      "Full Reconfiguration time for ensemble_9 from en_5: 1.62 seconds\n"
     ]
    },
    {
     "name": "stderr",
     "output_type": "stream",
     "text": [
      "/usr/local/share/pynq-venv/lib/python3.10/site-packages/pynq/ps.py:434: UserWarning: Setting frequency to the closest possible value 98.8879MHz.\n",
      "  warnings.warn(\n"
     ]
    },
    {
     "name": "stdout",
     "output_type": "stream",
     "text": [
      "Full Reconfiguration time for ensemble_10 from en_5: 1.18 seconds\n",
      "----------------------------------------------\n"
     ]
    },
    {
     "name": "stderr",
     "output_type": "stream",
     "text": [
      "/usr/local/share/pynq-venv/lib/python3.10/site-packages/pynq/ps.py:434: UserWarning: Setting frequency to the closest possible value 98.8879MHz.\n",
      "  warnings.warn(\n",
      "/usr/local/share/pynq-venv/lib/python3.10/site-packages/pynq/ps.py:434: UserWarning: Setting frequency to the closest possible value 98.8879MHz.\n",
      "  warnings.warn(\n"
     ]
    },
    {
     "name": "stdout",
     "output_type": "stream",
     "text": [
      "Full Reconfiguration time for ensemble_1 from en_6: 1.47 seconds\n"
     ]
    },
    {
     "name": "stderr",
     "output_type": "stream",
     "text": [
      "/usr/local/share/pynq-venv/lib/python3.10/site-packages/pynq/ps.py:434: UserWarning: Setting frequency to the closest possible value 98.8879MHz.\n",
      "  warnings.warn(\n"
     ]
    },
    {
     "name": "stdout",
     "output_type": "stream",
     "text": [
      "Full Reconfiguration time for ensemble_2 from en_6: 1.59 seconds\n"
     ]
    },
    {
     "name": "stderr",
     "output_type": "stream",
     "text": [
      "/usr/local/share/pynq-venv/lib/python3.10/site-packages/pynq/ps.py:434: UserWarning: Setting frequency to the closest possible value 98.8879MHz.\n",
      "  warnings.warn(\n"
     ]
    },
    {
     "name": "stdout",
     "output_type": "stream",
     "text": [
      "Full Reconfiguration time for ensemble_3 from en_6: 1.49 seconds\n"
     ]
    },
    {
     "name": "stderr",
     "output_type": "stream",
     "text": [
      "/usr/local/share/pynq-venv/lib/python3.10/site-packages/pynq/ps.py:434: UserWarning: Setting frequency to the closest possible value 98.8879MHz.\n",
      "  warnings.warn(\n"
     ]
    },
    {
     "name": "stdout",
     "output_type": "stream",
     "text": [
      "Full Reconfiguration time for ensemble_4 from en_6: 0.99 seconds\n"
     ]
    },
    {
     "name": "stderr",
     "output_type": "stream",
     "text": [
      "/usr/local/share/pynq-venv/lib/python3.10/site-packages/pynq/ps.py:434: UserWarning: Setting frequency to the closest possible value 98.8879MHz.\n",
      "  warnings.warn(\n"
     ]
    },
    {
     "name": "stdout",
     "output_type": "stream",
     "text": [
      "Full Reconfiguration time for ensemble_5 from en_6: 1.14 seconds\n"
     ]
    },
    {
     "name": "stderr",
     "output_type": "stream",
     "text": [
      "/usr/local/share/pynq-venv/lib/python3.10/site-packages/pynq/ps.py:434: UserWarning: Setting frequency to the closest possible value 98.8879MHz.\n",
      "  warnings.warn(\n"
     ]
    },
    {
     "name": "stdout",
     "output_type": "stream",
     "text": [
      "Full Reconfiguration time for ensemble_6 from en_6: 0.23 seconds\n"
     ]
    },
    {
     "name": "stderr",
     "output_type": "stream",
     "text": [
      "/usr/local/share/pynq-venv/lib/python3.10/site-packages/pynq/ps.py:434: UserWarning: Setting frequency to the closest possible value 98.8879MHz.\n",
      "  warnings.warn(\n"
     ]
    },
    {
     "name": "stdout",
     "output_type": "stream",
     "text": [
      "Full Reconfiguration time for ensemble_7 from en_6: 1.11 seconds\n"
     ]
    },
    {
     "name": "stderr",
     "output_type": "stream",
     "text": [
      "/usr/local/share/pynq-venv/lib/python3.10/site-packages/pynq/ps.py:434: UserWarning: Setting frequency to the closest possible value 98.8879MHz.\n",
      "  warnings.warn(\n"
     ]
    },
    {
     "name": "stdout",
     "output_type": "stream",
     "text": [
      "Full Reconfiguration time for ensemble_8 from en_6: 1.08 seconds\n"
     ]
    },
    {
     "name": "stderr",
     "output_type": "stream",
     "text": [
      "/usr/local/share/pynq-venv/lib/python3.10/site-packages/pynq/ps.py:434: UserWarning: Setting frequency to the closest possible value 98.8879MHz.\n",
      "  warnings.warn(\n"
     ]
    },
    {
     "name": "stdout",
     "output_type": "stream",
     "text": [
      "Full Reconfiguration time for ensemble_9 from en_6: 1.44 seconds\n"
     ]
    },
    {
     "name": "stderr",
     "output_type": "stream",
     "text": [
      "/usr/local/share/pynq-venv/lib/python3.10/site-packages/pynq/ps.py:434: UserWarning: Setting frequency to the closest possible value 98.8879MHz.\n",
      "  warnings.warn(\n"
     ]
    },
    {
     "name": "stdout",
     "output_type": "stream",
     "text": [
      "Full Reconfiguration time for ensemble_10 from en_6: 0.94 seconds\n",
      "----------------------------------------------\n"
     ]
    },
    {
     "name": "stderr",
     "output_type": "stream",
     "text": [
      "/usr/local/share/pynq-venv/lib/python3.10/site-packages/pynq/ps.py:434: UserWarning: Setting frequency to the closest possible value 98.8879MHz.\n",
      "  warnings.warn(\n",
      "/usr/local/share/pynq-venv/lib/python3.10/site-packages/pynq/ps.py:434: UserWarning: Setting frequency to the closest possible value 98.8879MHz.\n",
      "  warnings.warn(\n"
     ]
    },
    {
     "name": "stdout",
     "output_type": "stream",
     "text": [
      "Full Reconfiguration time for ensemble_1 from en_7: 0.91 seconds\n"
     ]
    },
    {
     "name": "stderr",
     "output_type": "stream",
     "text": [
      "/usr/local/share/pynq-venv/lib/python3.10/site-packages/pynq/ps.py:434: UserWarning: Setting frequency to the closest possible value 98.8879MHz.\n",
      "  warnings.warn(\n"
     ]
    },
    {
     "name": "stdout",
     "output_type": "stream",
     "text": [
      "Full Reconfiguration time for ensemble_2 from en_7: 2.04 seconds\n"
     ]
    },
    {
     "name": "stderr",
     "output_type": "stream",
     "text": [
      "/usr/local/share/pynq-venv/lib/python3.10/site-packages/pynq/ps.py:434: UserWarning: Setting frequency to the closest possible value 98.8879MHz.\n",
      "  warnings.warn(\n"
     ]
    },
    {
     "name": "stdout",
     "output_type": "stream",
     "text": [
      "Full Reconfiguration time for ensemble_3 from en_7: 1.29 seconds\n"
     ]
    },
    {
     "name": "stderr",
     "output_type": "stream",
     "text": [
      "/usr/local/share/pynq-venv/lib/python3.10/site-packages/pynq/ps.py:434: UserWarning: Setting frequency to the closest possible value 98.8879MHz.\n",
      "  warnings.warn(\n"
     ]
    },
    {
     "name": "stdout",
     "output_type": "stream",
     "text": [
      "Full Reconfiguration time for ensemble_4 from en_7: 1.03 seconds\n"
     ]
    },
    {
     "name": "stderr",
     "output_type": "stream",
     "text": [
      "/usr/local/share/pynq-venv/lib/python3.10/site-packages/pynq/ps.py:434: UserWarning: Setting frequency to the closest possible value 98.8879MHz.\n",
      "  warnings.warn(\n"
     ]
    },
    {
     "name": "stdout",
     "output_type": "stream",
     "text": [
      "Full Reconfiguration time for ensemble_5 from en_7: 1.67 seconds\n"
     ]
    },
    {
     "name": "stderr",
     "output_type": "stream",
     "text": [
      "/usr/local/share/pynq-venv/lib/python3.10/site-packages/pynq/ps.py:434: UserWarning: Setting frequency to the closest possible value 98.8879MHz.\n",
      "  warnings.warn(\n"
     ]
    },
    {
     "name": "stdout",
     "output_type": "stream",
     "text": [
      "Full Reconfiguration time for ensemble_6 from en_7: 0.60 seconds\n"
     ]
    },
    {
     "name": "stderr",
     "output_type": "stream",
     "text": [
      "/usr/local/share/pynq-venv/lib/python3.10/site-packages/pynq/ps.py:434: UserWarning: Setting frequency to the closest possible value 98.8879MHz.\n",
      "  warnings.warn(\n"
     ]
    },
    {
     "name": "stdout",
     "output_type": "stream",
     "text": [
      "Full Reconfiguration time for ensemble_7 from en_7: 0.22 seconds\n"
     ]
    },
    {
     "name": "stderr",
     "output_type": "stream",
     "text": [
      "/usr/local/share/pynq-venv/lib/python3.10/site-packages/pynq/ps.py:434: UserWarning: Setting frequency to the closest possible value 98.8879MHz.\n",
      "  warnings.warn(\n"
     ]
    },
    {
     "name": "stdout",
     "output_type": "stream",
     "text": [
      "Full Reconfiguration time for ensemble_8 from en_7: 1.93 seconds\n"
     ]
    },
    {
     "name": "stderr",
     "output_type": "stream",
     "text": [
      "/usr/local/share/pynq-venv/lib/python3.10/site-packages/pynq/ps.py:434: UserWarning: Setting frequency to the closest possible value 98.8879MHz.\n",
      "  warnings.warn(\n"
     ]
    },
    {
     "name": "stdout",
     "output_type": "stream",
     "text": [
      "Full Reconfiguration time for ensemble_9 from en_7: 1.68 seconds\n"
     ]
    },
    {
     "name": "stderr",
     "output_type": "stream",
     "text": [
      "/usr/local/share/pynq-venv/lib/python3.10/site-packages/pynq/ps.py:434: UserWarning: Setting frequency to the closest possible value 98.8879MHz.\n",
      "  warnings.warn(\n"
     ]
    },
    {
     "name": "stdout",
     "output_type": "stream",
     "text": [
      "Full Reconfiguration time for ensemble_10 from en_7: 1.31 seconds\n",
      "----------------------------------------------\n"
     ]
    },
    {
     "name": "stderr",
     "output_type": "stream",
     "text": [
      "/usr/local/share/pynq-venv/lib/python3.10/site-packages/pynq/ps.py:434: UserWarning: Setting frequency to the closest possible value 98.8879MHz.\n",
      "  warnings.warn(\n",
      "/usr/local/share/pynq-venv/lib/python3.10/site-packages/pynq/ps.py:434: UserWarning: Setting frequency to the closest possible value 98.8879MHz.\n",
      "  warnings.warn(\n"
     ]
    },
    {
     "name": "stdout",
     "output_type": "stream",
     "text": [
      "Full Reconfiguration time for ensemble_1 from en_8: 1.37 seconds\n"
     ]
    },
    {
     "name": "stderr",
     "output_type": "stream",
     "text": [
      "/usr/local/share/pynq-venv/lib/python3.10/site-packages/pynq/ps.py:434: UserWarning: Setting frequency to the closest possible value 98.8879MHz.\n",
      "  warnings.warn(\n"
     ]
    },
    {
     "name": "stdout",
     "output_type": "stream",
     "text": [
      "Full Reconfiguration time for ensemble_2 from en_8: 1.31 seconds\n"
     ]
    },
    {
     "name": "stderr",
     "output_type": "stream",
     "text": [
      "/usr/local/share/pynq-venv/lib/python3.10/site-packages/pynq/ps.py:434: UserWarning: Setting frequency to the closest possible value 98.8879MHz.\n",
      "  warnings.warn(\n"
     ]
    },
    {
     "name": "stdout",
     "output_type": "stream",
     "text": [
      "Full Reconfiguration time for ensemble_3 from en_8: 1.18 seconds\n"
     ]
    },
    {
     "name": "stderr",
     "output_type": "stream",
     "text": [
      "/usr/local/share/pynq-venv/lib/python3.10/site-packages/pynq/ps.py:434: UserWarning: Setting frequency to the closest possible value 98.8879MHz.\n",
      "  warnings.warn(\n"
     ]
    },
    {
     "name": "stdout",
     "output_type": "stream",
     "text": [
      "Full Reconfiguration time for ensemble_4 from en_8: 1.22 seconds\n"
     ]
    },
    {
     "name": "stderr",
     "output_type": "stream",
     "text": [
      "/usr/local/share/pynq-venv/lib/python3.10/site-packages/pynq/ps.py:434: UserWarning: Setting frequency to the closest possible value 98.8879MHz.\n",
      "  warnings.warn(\n"
     ]
    },
    {
     "name": "stdout",
     "output_type": "stream",
     "text": [
      "Full Reconfiguration time for ensemble_5 from en_8: 1.07 seconds\n"
     ]
    },
    {
     "name": "stderr",
     "output_type": "stream",
     "text": [
      "/usr/local/share/pynq-venv/lib/python3.10/site-packages/pynq/ps.py:434: UserWarning: Setting frequency to the closest possible value 98.8879MHz.\n",
      "  warnings.warn(\n"
     ]
    },
    {
     "name": "stdout",
     "output_type": "stream",
     "text": [
      "Full Reconfiguration time for ensemble_6 from en_8: 1.08 seconds\n"
     ]
    },
    {
     "name": "stderr",
     "output_type": "stream",
     "text": [
      "/usr/local/share/pynq-venv/lib/python3.10/site-packages/pynq/ps.py:434: UserWarning: Setting frequency to the closest possible value 98.8879MHz.\n",
      "  warnings.warn(\n"
     ]
    },
    {
     "name": "stdout",
     "output_type": "stream",
     "text": [
      "Full Reconfiguration time for ensemble_7 from en_8: 1.37 seconds\n"
     ]
    },
    {
     "name": "stderr",
     "output_type": "stream",
     "text": [
      "/usr/local/share/pynq-venv/lib/python3.10/site-packages/pynq/ps.py:434: UserWarning: Setting frequency to the closest possible value 98.8879MHz.\n",
      "  warnings.warn(\n"
     ]
    },
    {
     "name": "stdout",
     "output_type": "stream",
     "text": [
      "Full Reconfiguration time for ensemble_8 from en_8: 0.21 seconds\n"
     ]
    },
    {
     "name": "stderr",
     "output_type": "stream",
     "text": [
      "/usr/local/share/pynq-venv/lib/python3.10/site-packages/pynq/ps.py:434: UserWarning: Setting frequency to the closest possible value 98.8879MHz.\n",
      "  warnings.warn(\n"
     ]
    },
    {
     "name": "stdout",
     "output_type": "stream",
     "text": [
      "Full Reconfiguration time for ensemble_9 from en_8: 1.17 seconds\n"
     ]
    },
    {
     "name": "stderr",
     "output_type": "stream",
     "text": [
      "/usr/local/share/pynq-venv/lib/python3.10/site-packages/pynq/ps.py:434: UserWarning: Setting frequency to the closest possible value 98.8879MHz.\n",
      "  warnings.warn(\n"
     ]
    },
    {
     "name": "stdout",
     "output_type": "stream",
     "text": [
      "Full Reconfiguration time for ensemble_10 from en_8: 1.80 seconds\n",
      "----------------------------------------------\n"
     ]
    },
    {
     "name": "stderr",
     "output_type": "stream",
     "text": [
      "/usr/local/share/pynq-venv/lib/python3.10/site-packages/pynq/ps.py:434: UserWarning: Setting frequency to the closest possible value 98.8879MHz.\n",
      "  warnings.warn(\n",
      "/usr/local/share/pynq-venv/lib/python3.10/site-packages/pynq/ps.py:434: UserWarning: Setting frequency to the closest possible value 98.8879MHz.\n",
      "  warnings.warn(\n"
     ]
    },
    {
     "name": "stdout",
     "output_type": "stream",
     "text": [
      "Full Reconfiguration time for ensemble_1 from en_9: 1.22 seconds\n"
     ]
    },
    {
     "name": "stderr",
     "output_type": "stream",
     "text": [
      "/usr/local/share/pynq-venv/lib/python3.10/site-packages/pynq/ps.py:434: UserWarning: Setting frequency to the closest possible value 98.8879MHz.\n",
      "  warnings.warn(\n"
     ]
    },
    {
     "name": "stdout",
     "output_type": "stream",
     "text": [
      "Full Reconfiguration time for ensemble_2 from en_9: 1.19 seconds\n"
     ]
    },
    {
     "name": "stderr",
     "output_type": "stream",
     "text": [
      "/usr/local/share/pynq-venv/lib/python3.10/site-packages/pynq/ps.py:434: UserWarning: Setting frequency to the closest possible value 98.8879MHz.\n",
      "  warnings.warn(\n"
     ]
    },
    {
     "name": "stdout",
     "output_type": "stream",
     "text": [
      "Full Reconfiguration time for ensemble_3 from en_9: 1.31 seconds\n"
     ]
    },
    {
     "name": "stderr",
     "output_type": "stream",
     "text": [
      "/usr/local/share/pynq-venv/lib/python3.10/site-packages/pynq/ps.py:434: UserWarning: Setting frequency to the closest possible value 98.8879MHz.\n",
      "  warnings.warn(\n"
     ]
    },
    {
     "name": "stdout",
     "output_type": "stream",
     "text": [
      "Full Reconfiguration time for ensemble_4 from en_9: 1.24 seconds\n"
     ]
    },
    {
     "name": "stderr",
     "output_type": "stream",
     "text": [
      "/usr/local/share/pynq-venv/lib/python3.10/site-packages/pynq/ps.py:434: UserWarning: Setting frequency to the closest possible value 98.8879MHz.\n",
      "  warnings.warn(\n"
     ]
    },
    {
     "name": "stdout",
     "output_type": "stream",
     "text": [
      "Full Reconfiguration time for ensemble_5 from en_9: 0.93 seconds\n"
     ]
    },
    {
     "name": "stderr",
     "output_type": "stream",
     "text": [
      "/usr/local/share/pynq-venv/lib/python3.10/site-packages/pynq/ps.py:434: UserWarning: Setting frequency to the closest possible value 98.8879MHz.\n",
      "  warnings.warn(\n"
     ]
    },
    {
     "name": "stdout",
     "output_type": "stream",
     "text": [
      "Full Reconfiguration time for ensemble_6 from en_9: 1.11 seconds\n"
     ]
    },
    {
     "name": "stderr",
     "output_type": "stream",
     "text": [
      "/usr/local/share/pynq-venv/lib/python3.10/site-packages/pynq/ps.py:434: UserWarning: Setting frequency to the closest possible value 98.8879MHz.\n",
      "  warnings.warn(\n"
     ]
    },
    {
     "name": "stdout",
     "output_type": "stream",
     "text": [
      "Full Reconfiguration time for ensemble_7 from en_9: 0.89 seconds\n"
     ]
    },
    {
     "name": "stderr",
     "output_type": "stream",
     "text": [
      "/usr/local/share/pynq-venv/lib/python3.10/site-packages/pynq/ps.py:434: UserWarning: Setting frequency to the closest possible value 98.8879MHz.\n",
      "  warnings.warn(\n"
     ]
    },
    {
     "name": "stdout",
     "output_type": "stream",
     "text": [
      "Full Reconfiguration time for ensemble_8 from en_9: 1.22 seconds\n"
     ]
    },
    {
     "name": "stderr",
     "output_type": "stream",
     "text": [
      "/usr/local/share/pynq-venv/lib/python3.10/site-packages/pynq/ps.py:434: UserWarning: Setting frequency to the closest possible value 98.8879MHz.\n",
      "  warnings.warn(\n"
     ]
    },
    {
     "name": "stdout",
     "output_type": "stream",
     "text": [
      "Full Reconfiguration time for ensemble_9 from en_9: 0.22 seconds\n"
     ]
    },
    {
     "name": "stderr",
     "output_type": "stream",
     "text": [
      "/usr/local/share/pynq-venv/lib/python3.10/site-packages/pynq/ps.py:434: UserWarning: Setting frequency to the closest possible value 98.8879MHz.\n",
      "  warnings.warn(\n"
     ]
    },
    {
     "name": "stdout",
     "output_type": "stream",
     "text": [
      "Full Reconfiguration time for ensemble_10 from en_9: 1.20 seconds\n",
      "----------------------------------------------\n"
     ]
    },
    {
     "name": "stderr",
     "output_type": "stream",
     "text": [
      "/usr/local/share/pynq-venv/lib/python3.10/site-packages/pynq/ps.py:434: UserWarning: Setting frequency to the closest possible value 98.8879MHz.\n",
      "  warnings.warn(\n",
      "/usr/local/share/pynq-venv/lib/python3.10/site-packages/pynq/ps.py:434: UserWarning: Setting frequency to the closest possible value 98.8879MHz.\n",
      "  warnings.warn(\n"
     ]
    },
    {
     "name": "stdout",
     "output_type": "stream",
     "text": [
      "Full Reconfiguration time for ensemble_1 from en_10: 0.99 seconds\n"
     ]
    },
    {
     "name": "stderr",
     "output_type": "stream",
     "text": [
      "/usr/local/share/pynq-venv/lib/python3.10/site-packages/pynq/ps.py:434: UserWarning: Setting frequency to the closest possible value 98.8879MHz.\n",
      "  warnings.warn(\n"
     ]
    },
    {
     "name": "stdout",
     "output_type": "stream",
     "text": [
      "Full Reconfiguration time for ensemble_2 from en_10: 0.97 seconds\n"
     ]
    },
    {
     "name": "stderr",
     "output_type": "stream",
     "text": [
      "/usr/local/share/pynq-venv/lib/python3.10/site-packages/pynq/ps.py:434: UserWarning: Setting frequency to the closest possible value 98.8879MHz.\n",
      "  warnings.warn(\n"
     ]
    },
    {
     "name": "stdout",
     "output_type": "stream",
     "text": [
      "Full Reconfiguration time for ensemble_3 from en_10: 1.07 seconds\n"
     ]
    },
    {
     "name": "stderr",
     "output_type": "stream",
     "text": [
      "/usr/local/share/pynq-venv/lib/python3.10/site-packages/pynq/ps.py:434: UserWarning: Setting frequency to the closest possible value 98.8879MHz.\n",
      "  warnings.warn(\n"
     ]
    },
    {
     "name": "stdout",
     "output_type": "stream",
     "text": [
      "Full Reconfiguration time for ensemble_4 from en_10: 1.05 seconds\n"
     ]
    },
    {
     "name": "stderr",
     "output_type": "stream",
     "text": [
      "/usr/local/share/pynq-venv/lib/python3.10/site-packages/pynq/ps.py:434: UserWarning: Setting frequency to the closest possible value 98.8879MHz.\n",
      "  warnings.warn(\n"
     ]
    },
    {
     "name": "stdout",
     "output_type": "stream",
     "text": [
      "Full Reconfiguration time for ensemble_5 from en_10: 1.04 seconds\n"
     ]
    },
    {
     "name": "stderr",
     "output_type": "stream",
     "text": [
      "/usr/local/share/pynq-venv/lib/python3.10/site-packages/pynq/ps.py:434: UserWarning: Setting frequency to the closest possible value 98.8879MHz.\n",
      "  warnings.warn(\n"
     ]
    },
    {
     "name": "stdout",
     "output_type": "stream",
     "text": [
      "Full Reconfiguration time for ensemble_6 from en_10: 1.20 seconds\n"
     ]
    },
    {
     "name": "stderr",
     "output_type": "stream",
     "text": [
      "/usr/local/share/pynq-venv/lib/python3.10/site-packages/pynq/ps.py:434: UserWarning: Setting frequency to the closest possible value 98.8879MHz.\n",
      "  warnings.warn(\n"
     ]
    },
    {
     "name": "stdout",
     "output_type": "stream",
     "text": [
      "Full Reconfiguration time for ensemble_7 from en_10: 1.16 seconds\n"
     ]
    },
    {
     "name": "stderr",
     "output_type": "stream",
     "text": [
      "/usr/local/share/pynq-venv/lib/python3.10/site-packages/pynq/ps.py:434: UserWarning: Setting frequency to the closest possible value 98.8879MHz.\n",
      "  warnings.warn(\n"
     ]
    },
    {
     "name": "stdout",
     "output_type": "stream",
     "text": [
      "Full Reconfiguration time for ensemble_8 from en_10: 1.25 seconds\n"
     ]
    },
    {
     "name": "stderr",
     "output_type": "stream",
     "text": [
      "/usr/local/share/pynq-venv/lib/python3.10/site-packages/pynq/ps.py:434: UserWarning: Setting frequency to the closest possible value 98.8879MHz.\n",
      "  warnings.warn(\n"
     ]
    },
    {
     "name": "stdout",
     "output_type": "stream",
     "text": [
      "Full Reconfiguration time for ensemble_9 from en_10: 1.41 seconds\n"
     ]
    },
    {
     "name": "stderr",
     "output_type": "stream",
     "text": [
      "/usr/local/share/pynq-venv/lib/python3.10/site-packages/pynq/ps.py:434: UserWarning: Setting frequency to the closest possible value 98.8879MHz.\n",
      "  warnings.warn(\n"
     ]
    },
    {
     "name": "stdout",
     "output_type": "stream",
     "text": [
      "Full Reconfiguration time for ensemble_10 from en_10: 0.22 seconds\n",
      "----------------------------------------------\n"
     ]
    }
   ],
   "source": [
    "for j in range(1, 11):\n",
    "    full_config_times[f'ensemble_{j}'] = []\n",
    "    overlay_base = Overlay(f\"pr_bitstreams/ensemble_{j}.bit\")\n",
    "    overlay_base.download()\n",
    "    for i in range(1, 11):\n",
    "        overlay = Overlay(f\"pr_bitstreams/ensemble_{i}.bit\")\n",
    "        start_time = time.time()\n",
    "        overlay.download()\n",
    "        end_time = time.time()\n",
    "        config_time = end_time - start_time\n",
    "        print(f\"Full Reconfiguration time for ensemble_{i} from en_{j}: {config_time:.2f} seconds\")\n",
    "        full_config_times[f'ensemble_{j}'].append(config_time)\n",
    "        overlay_base.download()\n",
    "    print(\"----------------------------------------------\")"
   ]
  },
  {
   "cell_type": "markdown",
   "id": "c4f36e97-31da-4547-92c3-8621adbfc3b5",
   "metadata": {},
   "source": [
    "# Partial Re configuration"
   ]
  },
  {
   "cell_type": "code",
   "execution_count": 61,
   "id": "2c3e6da0-b0e6-4403-a397-16b4004673e8",
   "metadata": {},
   "outputs": [
    {
     "name": "stderr",
     "output_type": "stream",
     "text": [
      "/usr/local/share/pynq-venv/lib/python3.10/site-packages/pynq/ps.py:434: UserWarning: Setting frequency to the closest possible value 98.8879MHz.\n",
      "  warnings.warn(\n"
     ]
    },
    {
     "name": "stdout",
     "output_type": "stream",
     "text": [
      "Partial Reconfiguration time for ensemble_1 : 0.27 seconds\n",
      "Partial Reconfiguration time for ensemble_2 : 0.68 seconds\n",
      "Partial Reconfiguration time for ensemble_3 : 0.64 seconds\n",
      "Partial Reconfiguration time for ensemble_4 : 0.38 seconds\n",
      "Partial Reconfiguration time for ensemble_5 : 0.51 seconds\n",
      "Partial Reconfiguration time for ensemble_6 : 0.35 seconds\n",
      "Partial Reconfiguration time for ensemble_7 : 0.36 seconds\n",
      "Partial Reconfiguration time for ensemble_8 : 0.38 seconds\n",
      "Partial Reconfiguration time for ensemble_9 : 0.58 seconds\n",
      "Partial Reconfiguration time for ensemble_10 : 1.10 seconds\n"
     ]
    }
   ],
   "source": [
    "from pynq import Bitstream\n",
    "# partial_config_times_0 = []\n",
    "partial_config_times['ensemble_0'] = []\n",
    "overlay = Overlay(\"pr_bitstreams/ensemble_bb.bit\")\n",
    "for i in range(1, 11):\n",
    "    partial_bit = Bitstream(f\"pr_bitstreams/ensemble_{i}_pblock_ensmbl_wrpr_10_0_partial.bit\")\n",
    "    start_time = time.time()\n",
    "    partial_bit.download()\n",
    "    end_time = time.time()\n",
    "    config_time = end_time - start_time\n",
    "    print(f\"Partial Reconfiguration time for ensemble_{i} : {config_time:.2f} seconds\")\n",
    "    partial_config_times['ensemble_0'].append(config_time)\n",
    "    "
   ]
  },
  {
   "cell_type": "code",
   "execution_count": 60,
   "id": "6fb37142-5ae6-4802-8587-a2f9574fd169",
   "metadata": {},
   "outputs": [
    {
     "name": "stderr",
     "output_type": "stream",
     "text": [
      "/usr/local/share/pynq-venv/lib/python3.10/site-packages/pynq/ps.py:434: UserWarning: Setting frequency to the closest possible value 98.8879MHz.\n",
      "  warnings.warn(\n"
     ]
    },
    {
     "name": "stdout",
     "output_type": "stream",
     "text": [
      "Partial Reconfiguration time for ensemble_1 from bb: 0.28 seconds\n",
      "Partial Reconfiguration time for ensemble_2 from bb: 0.28 seconds\n",
      "Partial Reconfiguration time for ensemble_3 from bb: 0.75 seconds\n",
      "Partial Reconfiguration time for ensemble_4 from bb: 0.28 seconds\n",
      "Partial Reconfiguration time for ensemble_5 from bb: 0.28 seconds\n",
      "Partial Reconfiguration time for ensemble_6 from bb: 0.28 seconds\n",
      "Partial Reconfiguration time for ensemble_7 from bb: 0.28 seconds\n",
      "Partial Reconfiguration time for ensemble_8 from bb: 0.28 seconds\n",
      "Partial Reconfiguration time for ensemble_9 from bb: 0.28 seconds\n",
      "Partial Reconfiguration time for ensemble_10 from bb: 0.28 seconds\n"
     ]
    }
   ],
   "source": [
    "from pynq import Bitstream\n",
    "# partial_config_times_from_bb = []\n",
    "partial_config_times['ensemble_bb'] = []\n",
    "overlay = Overlay(\"pr_bitstreams/ensemble_bb.bit\")\n",
    "for i in range(1, 11):\n",
    "    partial_bit = Bitstream(f\"pr_bitstreams/ensemble_{i}_pblock_ensmbl_wrpr_10_0_partial.bit\")\n",
    "    start_time = time.time()\n",
    "    partial_bit.download()\n",
    "    end_time = time.time()\n",
    "    config_time = end_time - start_time\n",
    "    print(f\"Partial Reconfiguration time for ensemble_{i} from bb: {config_time:.2f} seconds\")\n",
    "    partial_config_times['ensemble_bb'].append(config_time)\n",
    "    overlay.download()"
   ]
  },
  {
   "cell_type": "code",
   "execution_count": 39,
   "id": "eed65462-7fe6-4731-a275-6c6a1e059e19",
   "metadata": {},
   "outputs": [
    {
     "name": "stderr",
     "output_type": "stream",
     "text": [
      "/usr/local/share/pynq-venv/lib/python3.10/site-packages/pynq/ps.py:434: UserWarning: Setting frequency to the closest possible value 98.8879MHz.\n",
      "  warnings.warn(\n"
     ]
    },
    {
     "name": "stdout",
     "output_type": "stream",
     "text": [
      "Partial Reconfiguration time for ensemble_1 from en_1: 0.28 seconds\n",
      "Partial Reconfiguration time for ensemble_2 from en_1: 0.28 seconds\n",
      "Partial Reconfiguration time for ensemble_3 from en_1: 0.28 seconds\n",
      "Partial Reconfiguration time for ensemble_4 from en_1: 0.28 seconds\n",
      "Partial Reconfiguration time for ensemble_5 from en_1: 0.28 seconds\n",
      "Partial Reconfiguration time for ensemble_6 from en_1: 0.28 seconds\n",
      "Partial Reconfiguration time for ensemble_7 from en_1: 0.28 seconds\n",
      "Partial Reconfiguration time for ensemble_8 from en_1: 0.28 seconds\n",
      "Partial Reconfiguration time for ensemble_9 from en_1: 0.28 seconds\n",
      "Partial Reconfiguration time for ensemble_10 from en_1: 0.28 seconds\n",
      "----------------------------------------------\n"
     ]
    },
    {
     "name": "stderr",
     "output_type": "stream",
     "text": [
      "/usr/local/share/pynq-venv/lib/python3.10/site-packages/pynq/ps.py:434: UserWarning: Setting frequency to the closest possible value 98.8879MHz.\n",
      "  warnings.warn(\n"
     ]
    },
    {
     "name": "stdout",
     "output_type": "stream",
     "text": [
      "Partial Reconfiguration time for ensemble_1 from en_2: 0.28 seconds\n",
      "Partial Reconfiguration time for ensemble_2 from en_2: 0.28 seconds\n",
      "Partial Reconfiguration time for ensemble_3 from en_2: 0.27 seconds\n",
      "Partial Reconfiguration time for ensemble_4 from en_2: 0.27 seconds\n",
      "Partial Reconfiguration time for ensemble_5 from en_2: 0.27 seconds\n",
      "Partial Reconfiguration time for ensemble_6 from en_2: 0.74 seconds\n",
      "Partial Reconfiguration time for ensemble_7 from en_2: 0.27 seconds\n",
      "Partial Reconfiguration time for ensemble_8 from en_2: 0.27 seconds\n",
      "Partial Reconfiguration time for ensemble_9 from en_2: 0.79 seconds\n",
      "Partial Reconfiguration time for ensemble_10 from en_2: 0.27 seconds\n",
      "----------------------------------------------\n"
     ]
    },
    {
     "name": "stderr",
     "output_type": "stream",
     "text": [
      "/usr/local/share/pynq-venv/lib/python3.10/site-packages/pynq/ps.py:434: UserWarning: Setting frequency to the closest possible value 98.8879MHz.\n",
      "  warnings.warn(\n"
     ]
    },
    {
     "name": "stdout",
     "output_type": "stream",
     "text": [
      "Partial Reconfiguration time for ensemble_1 from en_3: 0.28 seconds\n",
      "Partial Reconfiguration time for ensemble_2 from en_3: 0.28 seconds\n",
      "Partial Reconfiguration time for ensemble_3 from en_3: 0.28 seconds\n",
      "Partial Reconfiguration time for ensemble_4 from en_3: 0.81 seconds\n",
      "Partial Reconfiguration time for ensemble_5 from en_3: 0.28 seconds\n",
      "Partial Reconfiguration time for ensemble_6 from en_3: 0.28 seconds\n",
      "Partial Reconfiguration time for ensemble_7 from en_3: 1.04 seconds\n",
      "Partial Reconfiguration time for ensemble_8 from en_3: 0.28 seconds\n",
      "Partial Reconfiguration time for ensemble_9 from en_3: 0.28 seconds\n",
      "Partial Reconfiguration time for ensemble_10 from en_3: 0.28 seconds\n",
      "----------------------------------------------\n"
     ]
    },
    {
     "name": "stderr",
     "output_type": "stream",
     "text": [
      "/usr/local/share/pynq-venv/lib/python3.10/site-packages/pynq/ps.py:434: UserWarning: Setting frequency to the closest possible value 98.8879MHz.\n",
      "  warnings.warn(\n"
     ]
    },
    {
     "name": "stdout",
     "output_type": "stream",
     "text": [
      "Partial Reconfiguration time for ensemble_1 from en_4: 0.79 seconds\n",
      "Partial Reconfiguration time for ensemble_2 from en_4: 0.28 seconds\n",
      "Partial Reconfiguration time for ensemble_3 from en_4: 0.27 seconds\n",
      "Partial Reconfiguration time for ensemble_4 from en_4: 0.28 seconds\n",
      "Partial Reconfiguration time for ensemble_5 from en_4: 0.27 seconds\n",
      "Partial Reconfiguration time for ensemble_6 from en_4: 0.28 seconds\n",
      "Partial Reconfiguration time for ensemble_7 from en_4: 0.28 seconds\n",
      "Partial Reconfiguration time for ensemble_8 from en_4: 0.87 seconds\n",
      "Partial Reconfiguration time for ensemble_9 from en_4: 0.27 seconds\n",
      "Partial Reconfiguration time for ensemble_10 from en_4: 0.28 seconds\n",
      "----------------------------------------------\n"
     ]
    },
    {
     "name": "stderr",
     "output_type": "stream",
     "text": [
      "/usr/local/share/pynq-venv/lib/python3.10/site-packages/pynq/ps.py:434: UserWarning: Setting frequency to the closest possible value 98.8879MHz.\n",
      "  warnings.warn(\n"
     ]
    },
    {
     "name": "stdout",
     "output_type": "stream",
     "text": [
      "Partial Reconfiguration time for ensemble_1 from en_5: 0.28 seconds\n",
      "Partial Reconfiguration time for ensemble_2 from en_5: 1.02 seconds\n",
      "Partial Reconfiguration time for ensemble_3 from en_5: 0.27 seconds\n",
      "Partial Reconfiguration time for ensemble_4 from en_5: 0.27 seconds\n",
      "Partial Reconfiguration time for ensemble_5 from en_5: 0.27 seconds\n",
      "Partial Reconfiguration time for ensemble_6 from en_5: 0.28 seconds\n",
      "Partial Reconfiguration time for ensemble_7 from en_5: 0.27 seconds\n",
      "Partial Reconfiguration time for ensemble_8 from en_5: 0.27 seconds\n",
      "Partial Reconfiguration time for ensemble_9 from en_5: 0.27 seconds\n",
      "Partial Reconfiguration time for ensemble_10 from en_5: 0.27 seconds\n",
      "----------------------------------------------\n"
     ]
    },
    {
     "name": "stderr",
     "output_type": "stream",
     "text": [
      "/usr/local/share/pynq-venv/lib/python3.10/site-packages/pynq/ps.py:434: UserWarning: Setting frequency to the closest possible value 98.8879MHz.\n",
      "  warnings.warn(\n"
     ]
    },
    {
     "name": "stdout",
     "output_type": "stream",
     "text": [
      "Partial Reconfiguration time for ensemble_1 from en_6: 0.28 seconds\n",
      "Partial Reconfiguration time for ensemble_2 from en_6: 0.27 seconds\n",
      "Partial Reconfiguration time for ensemble_3 from en_6: 0.28 seconds\n",
      "Partial Reconfiguration time for ensemble_4 from en_6: 0.28 seconds\n",
      "Partial Reconfiguration time for ensemble_5 from en_6: 0.27 seconds\n",
      "Partial Reconfiguration time for ensemble_6 from en_6: 0.28 seconds\n",
      "Partial Reconfiguration time for ensemble_7 from en_6: 0.28 seconds\n",
      "Partial Reconfiguration time for ensemble_8 from en_6: 0.27 seconds\n",
      "Partial Reconfiguration time for ensemble_9 from en_6: 0.27 seconds\n",
      "Partial Reconfiguration time for ensemble_10 from en_6: 0.85 seconds\n",
      "----------------------------------------------\n"
     ]
    },
    {
     "name": "stderr",
     "output_type": "stream",
     "text": [
      "/usr/local/share/pynq-venv/lib/python3.10/site-packages/pynq/ps.py:434: UserWarning: Setting frequency to the closest possible value 98.8879MHz.\n",
      "  warnings.warn(\n"
     ]
    },
    {
     "name": "stdout",
     "output_type": "stream",
     "text": [
      "Partial Reconfiguration time for ensemble_1 from en_7: 0.28 seconds\n",
      "Partial Reconfiguration time for ensemble_2 from en_7: 0.28 seconds\n",
      "Partial Reconfiguration time for ensemble_3 from en_7: 0.28 seconds\n",
      "Partial Reconfiguration time for ensemble_4 from en_7: 0.28 seconds\n",
      "Partial Reconfiguration time for ensemble_5 from en_7: 0.27 seconds\n",
      "Partial Reconfiguration time for ensemble_6 from en_7: 0.28 seconds\n",
      "Partial Reconfiguration time for ensemble_7 from en_7: 0.28 seconds\n",
      "Partial Reconfiguration time for ensemble_8 from en_7: 0.28 seconds\n",
      "Partial Reconfiguration time for ensemble_9 from en_7: 0.28 seconds\n",
      "Partial Reconfiguration time for ensemble_10 from en_7: 0.91 seconds\n",
      "----------------------------------------------\n"
     ]
    },
    {
     "name": "stderr",
     "output_type": "stream",
     "text": [
      "/usr/local/share/pynq-venv/lib/python3.10/site-packages/pynq/ps.py:434: UserWarning: Setting frequency to the closest possible value 98.8879MHz.\n",
      "  warnings.warn(\n"
     ]
    },
    {
     "name": "stdout",
     "output_type": "stream",
     "text": [
      "Partial Reconfiguration time for ensemble_1 from en_8: 0.28 seconds\n",
      "Partial Reconfiguration time for ensemble_2 from en_8: 0.28 seconds\n",
      "Partial Reconfiguration time for ensemble_3 from en_8: 0.28 seconds\n",
      "Partial Reconfiguration time for ensemble_4 from en_8: 0.28 seconds\n",
      "Partial Reconfiguration time for ensemble_5 from en_8: 0.27 seconds\n",
      "Partial Reconfiguration time for ensemble_6 from en_8: 0.28 seconds\n",
      "Partial Reconfiguration time for ensemble_7 from en_8: 0.27 seconds\n",
      "Partial Reconfiguration time for ensemble_8 from en_8: 0.27 seconds\n",
      "Partial Reconfiguration time for ensemble_9 from en_8: 0.27 seconds\n",
      "Partial Reconfiguration time for ensemble_10 from en_8: 0.28 seconds\n",
      "----------------------------------------------\n"
     ]
    },
    {
     "name": "stderr",
     "output_type": "stream",
     "text": [
      "/usr/local/share/pynq-venv/lib/python3.10/site-packages/pynq/ps.py:434: UserWarning: Setting frequency to the closest possible value 98.8879MHz.\n",
      "  warnings.warn(\n"
     ]
    },
    {
     "name": "stdout",
     "output_type": "stream",
     "text": [
      "Partial Reconfiguration time for ensemble_1 from en_9: 0.27 seconds\n",
      "Partial Reconfiguration time for ensemble_2 from en_9: 0.27 seconds\n",
      "Partial Reconfiguration time for ensemble_3 from en_9: 0.90 seconds\n",
      "Partial Reconfiguration time for ensemble_4 from en_9: 0.27 seconds\n",
      "Partial Reconfiguration time for ensemble_5 from en_9: 0.28 seconds\n",
      "Partial Reconfiguration time for ensemble_6 from en_9: 0.27 seconds\n",
      "Partial Reconfiguration time for ensemble_7 from en_9: 0.28 seconds\n",
      "Partial Reconfiguration time for ensemble_8 from en_9: 0.28 seconds\n",
      "Partial Reconfiguration time for ensemble_9 from en_9: 0.27 seconds\n",
      "Partial Reconfiguration time for ensemble_10 from en_9: 0.28 seconds\n",
      "----------------------------------------------\n"
     ]
    },
    {
     "name": "stderr",
     "output_type": "stream",
     "text": [
      "/usr/local/share/pynq-venv/lib/python3.10/site-packages/pynq/ps.py:434: UserWarning: Setting frequency to the closest possible value 98.8879MHz.\n",
      "  warnings.warn(\n"
     ]
    },
    {
     "name": "stdout",
     "output_type": "stream",
     "text": [
      "Partial Reconfiguration time for ensemble_1 from en_10: 0.28 seconds\n",
      "Partial Reconfiguration time for ensemble_2 from en_10: 0.27 seconds\n",
      "Partial Reconfiguration time for ensemble_3 from en_10: 0.27 seconds\n",
      "Partial Reconfiguration time for ensemble_4 from en_10: 0.28 seconds\n",
      "Partial Reconfiguration time for ensemble_5 from en_10: 0.28 seconds\n",
      "Partial Reconfiguration time for ensemble_6 from en_10: 0.28 seconds\n",
      "Partial Reconfiguration time for ensemble_7 from en_10: 0.28 seconds\n",
      "Partial Reconfiguration time for ensemble_8 from en_10: 1.31 seconds\n",
      "Partial Reconfiguration time for ensemble_9 from en_10: 0.28 seconds\n",
      "Partial Reconfiguration time for ensemble_10 from en_10: 0.28 seconds\n",
      "----------------------------------------------\n"
     ]
    }
   ],
   "source": [
    "partial_config_times = {}\n",
    "\n",
    "for j in range(1, 11):\n",
    "    partial_config_times[f'ensemble_{j}'] = []\n",
    "    overlay = Overlay(f\"pr_bitstreams/ensemble_{j}.bit\")\n",
    "    overlay.download()\n",
    "    for i in range(1, 11):\n",
    "        partial_bit = Bitstream(f\"pr_bitstreams/ensemble_{i}_pblock_ensmbl_wrpr_10_0_partial.bit\")\n",
    "        start_time = time.time()\n",
    "        partial_bit.download()\n",
    "        end_time = time.time()\n",
    "        config_time = end_time - start_time\n",
    "        print(f\"Partial Reconfiguration time for ensemble_{i} from en_{j}: {config_time:.2f} seconds\")\n",
    "        partial_config_times[f'ensemble_{j}'].append(config_time)\n",
    "        overlay.download()\n",
    "    print(\"----------------------------------------------\")"
   ]
  },
  {
   "cell_type": "markdown",
   "id": "1dec8f3a-f6a4-443a-a5ca-7afad5742f2e",
   "metadata": {},
   "source": [
    "## "
   ]
  },
  {
   "cell_type": "code",
   "execution_count": 72,
   "id": "fed0ed40-b812-493f-a07e-0e1edaf989ad",
   "metadata": {},
   "outputs": [
    {
     "name": "stdout",
     "output_type": "stream",
     "text": [
      "{'ensemble_0': [1.1401138305664062, 1.1462042331695557, 1.5039188861846924, 1.5752429962158203, 1.4859678745269775, 1.6091198921203613, 1.0547122955322266, 0.9667811393737793, 1.5566887855529785, 1.1267082691192627], 'ensemble_bb': [1.1216578483581543, 1.1731796264648438, 1.5410065650939941, 1.0810818672180176, 1.2628676891326904, 1.2728304862976074, 1.1731855869293213, 1.6316497325897217, 1.2517945766448975, 0.8619260787963867], 'ensemble_1': [0.21421074867248535, 1.2769453525543213, 1.0733377933502197, 1.6093826293945312, 1.2453250885009766, 1.4932196140289307, 2.2241878509521484, 1.3080193996429443, 1.3522095680236816, 1.6666347980499268], 'ensemble_2': [1.1472094058990479, 0.21565008163452148, 1.499330759048462, 1.3838696479797363, 1.6468052864074707, 1.2397432327270508, 1.137568473815918, 1.842932939529419, 1.6434857845306396, 1.2813713550567627], 'ensemble_3': [0.9151711463928223, 0.9998517036437988, 0.2145543098449707, 1.2529206275939941, 1.2261688709259033, 1.1092500686645508, 0.9099106788635254, 1.4471368789672852, 1.1411592960357666, 0.9902982711791992], 'ensemble_4': [1.9786550998687744, 1.066565990447998, 1.1287965774536133, 0.21804070472717285, 1.3704020977020264, 1.930558204650879, 1.0387780666351318, 1.4360525608062744, 2.193988800048828, 0.8796186447143555], 'ensemble_5': [1.192608118057251, 1.1681666374206543, 1.2814946174621582, 1.3280220031738281, 0.21435022354125977, 1.3169379234313965, 1.0732152462005615, 1.1169466972351074, 1.622920036315918, 1.1750171184539795], 'ensemble_6': [1.4743125438690186, 1.5880980491638184, 1.486100673675537, 0.987490177154541, 1.1432445049285889, 0.23161721229553223, 1.1135797500610352, 1.0758693218231201, 1.4406089782714844, 0.9354546070098877], 'ensemble_7': [0.9126315116882324, 2.0357117652893066, 1.287672996520996, 1.0331814289093018, 1.6685786247253418, 0.5971071720123291, 0.2161402702331543, 1.9349818229675293, 1.6834449768066406, 1.3060052394866943], 'ensemble_8': [1.3664062023162842, 1.3088226318359375, 1.1753463745117188, 1.221984624862671, 1.0734422206878662, 1.0815978050231934, 1.3723595142364502, 0.21475696563720703, 1.171250820159912, 1.8010244369506836], 'ensemble_9': [1.218125581741333, 1.1888890266418457, 1.3082139492034912, 1.2437047958374023, 0.9295694828033447, 1.113802433013916, 0.885631799697876, 1.2235143184661865, 0.21875452995300293, 1.2011260986328125], 'ensemble_10': [0.9924087524414062, 0.9687016010284424, 1.0700242519378662, 1.0480420589447021, 1.0373198986053467, 1.2045211791992188, 1.1636989116668701, 1.2459325790405273, 1.4071555137634277, 0.21764850616455078]}\n"
     ]
    }
   ],
   "source": [
    "print(full_config_times)"
   ]
  },
  {
   "cell_type": "code",
   "execution_count": 73,
   "id": "0d054883-4ba2-4ab0-a0b3-4c02d41c8852",
   "metadata": {},
   "outputs": [
    {
     "name": "stdout",
     "output_type": "stream",
     "text": [
      "[1.13945923 1.17806556 1.21414981 1.16524696 1.19200349 1.18335877\n",
      " 1.1135807  1.28704786 1.39028847 1.12023612]\n"
     ]
    }
   ],
   "source": [
    "full_times_array = np.array(list(full_config_times.values()))\n",
    "\n",
    "# Calculate the mean across the first axis (i.e., across ensembles)\n",
    "average_full_times = np.mean(full_times_array, axis=0)\n",
    "\n",
    "print(average_full_times)"
   ]
  },
  {
   "cell_type": "code",
   "execution_count": 76,
   "id": "64ea6e8e-0294-4f0b-a981-52ca03cefc5a",
   "metadata": {},
   "outputs": [
    {
     "data": {
      "image/png": "[encoded data removed]",
      "text/plain": [
       "<Figure size 864x432 with 1 Axes>"
      ]
     },
     "metadata": {
      "needs_background": "light"
     },
     "output_type": "display_data"
    }
   ],
   "source": [
    "import matplotlib.pyplot as plt\n",
    "\n",
    "# Plot\n",
    "plt.figure(figsize=(12, 6))\n",
    "\n",
    "# # Plot full_config_times\n",
    "# plt.plot(full_config_times, label='Full Config Times', marker='o')\n",
    "\n",
    "# Plot partial_config_times\n",
    "for ensemble, times in full_config_times.items():\n",
    "    plt.plot(times, label=ensemble, linestyle='--', alpha=0.25)\n",
    "\n",
    "# Plot average_partial_times\n",
    "plt.plot(average_full_times, label='Average Full Times', marker='x', linestyle='-', linewidth=2, color='black')\n",
    "\n",
    "# Set y-axis scale\n",
    "plt.ylim(0, 2)\n",
    "\n",
    "# Labels and title\n",
    "plt.xlabel('Run')\n",
    "plt.ylabel('Time (s)')\n",
    "plt.title('Configuration Times')\n",
    "plt.legend(loc='upper right')\n",
    "plt.show()"
   ]
  },
  {
   "cell_type": "code",
   "execution_count": 62,
   "id": "91a08243-91f6-4f40-83f0-1118885de0a0",
   "metadata": {},
   "outputs": [
    {
     "name": "stdout",
     "output_type": "stream",
     "text": [
      "{'ensemble_1': [0.27552080154418945, 0.278989315032959, 0.27561306953430176, 0.2763936519622803, 0.2813839912414551, 0.2752556800842285, 0.27530884742736816, 0.2763848304748535, 0.27655935287475586, 0.27612876892089844], 'ensemble_2': [0.2763795852661133, 0.27657127380371094, 0.27231621742248535, 0.27374958992004395, 0.27379655838012695, 0.7369918823242188, 0.2746763229370117, 0.2733426094055176, 0.790611743927002, 0.2741258144378662], 'ensemble_3': [0.2761237621307373, 0.2763502597808838, 0.2819254398345947, 0.8142805099487305, 0.27635645866394043, 0.27547574043273926, 1.0402472019195557, 0.2772200107574463, 0.27704954147338867, 0.277202844619751], 'ensemble_4': [0.7945647239685059, 0.27653932571411133, 0.2748234272003174, 0.2750246524810791, 0.27401041984558105, 0.2750358581542969, 0.27747273445129395, 0.8683276176452637, 0.2739908695220947, 0.27742600440979004], 'ensemble_5': [0.2786436080932617, 1.0188937187194824, 0.27464771270751953, 0.2743959426879883, 0.27439069747924805, 0.2750694751739502, 0.2747044563293457, 0.2743496894836426, 0.2744452953338623, 0.2748146057128906], 'ensemble_6': [0.2768421173095703, 0.2738816738128662, 0.2750523090362549, 0.2759716510772705, 0.2745342254638672, 0.2761538028717041, 0.2761695384979248, 0.27422451972961426, 0.27393317222595215, 0.8473677635192871], 'ensemble_7': [0.27639174461364746, 0.2798593044281006, 0.2780635356903076, 0.281217098236084, 0.27405500411987305, 0.2794339656829834, 0.2750861644744873, 0.2753868103027344, 0.2772030830383301, 0.9097645282745361], 'ensemble_8': [0.27909350395202637, 0.2755889892578125, 0.2779819965362549, 0.27680158615112305, 0.2748105525970459, 0.2807774543762207, 0.27454566955566406, 0.2749509811401367, 0.27464723587036133, 0.2760505676269531], 'ensemble_9': [0.2730867862701416, 0.2749760150909424, 0.8975186347961426, 0.27492856979370117, 0.27581286430358887, 0.2748301029205322, 0.27564120292663574, 0.27661991119384766, 0.2745981216430664, 0.27561092376708984], 'ensemble_10': [0.27579784393310547, 0.27431297302246094, 0.27461814880371094, 0.2751338481903076, 0.28428196907043457, 0.2766411304473877, 0.27617740631103516, 1.313676357269287, 0.2779660224914551, 0.27780938148498535], 'ensemble_bb': [0.2774651050567627, 0.28197336196899414, 0.7506966590881348, 0.27863430976867676, 0.27796411514282227, 0.27815675735473633, 0.27800989151000977, 0.280181884765625, 0.2773873805999756, 0.28322815895080566], 'ensemble_0': [0.27422356605529785, 0.6790523529052734, 0.6364161968231201, 0.38092803955078125, 0.5080106258392334, 0.35327601432800293, 0.3563103675842285, 0.3796660900115967, 0.5763387680053711, 1.1015746593475342]}\n"
     ]
    }
   ],
   "source": [
    "print(partial_config_times)"
   ]
  },
  {
   "cell_type": "code",
   "execution_count": 63,
   "id": "31d49174-8c0a-4feb-afff-3eaa9b8c52f1",
   "metadata": {},
   "outputs": [
    {
     "name": "stdout",
     "output_type": "stream",
     "text": [
      "[0.3195111  0.37224905 0.39747278 0.32978829 0.29578396 0.32142482\n",
      " 0.34619582 0.42036094 0.34372755 0.44592534]\n"
     ]
    }
   ],
   "source": [
    "partial_times_array = np.array(list(partial_config_times.values()))\n",
    "\n",
    "# Calculate the mean across the first axis (i.e., across ensembles)\n",
    "average_partial_times = np.mean(partial_times_array, axis=0)\n",
    "\n",
    "print(average_partial_times)"
   ]
  },
  {
   "cell_type": "code",
   "execution_count": 66,
   "id": "93219b40-7ec5-4066-ac00-1fe305cb3528",
   "metadata": {},
   "outputs": [
    {
     "data": {
      "image/png": "[encoded data removed]",
      "text/plain": [
       "<Figure size 864x432 with 1 Axes>"
      ]
     },
     "metadata": {
      "needs_background": "light"
     },
     "output_type": "display_data"
    }
   ],
   "source": [
    "import matplotlib.pyplot as plt\n",
    "\n",
    "# Plot\n",
    "plt.figure(figsize=(12, 6))\n",
    "\n",
    "# # Plot full_config_times\n",
    "# plt.plot(full_config_times, label='Full Config Times', marker='o')\n",
    "\n",
    "# Plot partial_config_times\n",
    "for ensemble, times in partial_config_times.items():\n",
    "    plt.plot(times, label=ensemble, linestyle='--', alpha=0.5)\n",
    "\n",
    "# Plot average_partial_times\n",
    "plt.plot(average_partial_times, label='Average Partial Times', marker='x', linestyle='-', linewidth=2, color='black')\n",
    "\n",
    "# Set y-axis scale\n",
    "plt.ylim(0, 2)\n",
    "\n",
    "plt.xlabel('Ensemble')\n",
    "plt.ylabel('Time (s)')\n",
    "plt.title('Configuration Times')\n",
    "plt.legend(loc='upper right')\n",
    "plt.show()"
   ]
  },
  {
   "cell_type": "code",
   "execution_count": 90,
   "id": "2f4b926d-32a1-4e2a-8597-bc0fcc530290",
   "metadata": {},
   "outputs": [
    {
     "data": {
      "image/png": "[encoded data removed]",
      "text/plain": [
       "<Figure size 576x432 with 1 Axes>"
      ]
     },
     "metadata": {
      "needs_background": "light"
     },
     "output_type": "display_data"
    }
   ],
   "source": [
    "import matplotlib.pyplot as plt\n",
    "\n",
    "# Plot\n",
    "plt.figure(figsize=(8, 6))\n",
    "\n",
    "plt.plot(average_partial_times, label='Avg. Partial Reconfiguration Times', marker='x', linestyle='-', linewidth=2, color='blue')\n",
    "\n",
    "# Plot average_partial_times\n",
    "plt.plot(average_full_times, label='Avg. Full Reconfiguration Times', marker='x', linestyle='-', linewidth=2, color='black')\n",
    "\n",
    "# Set y-axis scale\n",
    "plt.ylim(0, 2)\n",
    "x = np.arange(0, 10)\n",
    "plt.xticks(ticks=x, labels=[f'Ensemble {num+1}' for num in x], rotation=45)\n",
    "\n",
    "# Labels and title\n",
    "# plt.xlabel('Run')\n",
    "plt.ylabel('Time (s)')\n",
    "plt.title('Configuration Times')\n",
    "plt.legend(loc='upper right')\n",
    "plt.show()"
   ]
  },
  {
   "cell_type": "code",
   "execution_count": null,
   "id": "7b9fa76c-0829-426a-b290-12be0b9a1561",
   "metadata": {},
   "outputs": [],
   "source": []
  }
 ],
 "metadata": {
  "kernelspec": {
   "display_name": "Python 3 (ipykernel)",
   "language": "python",
   "name": "python3"
  },
  "language_info": {
   "codemirror_mode": {
    "name": "ipython",
    "version": 3
   },
   "file_extension": ".py",
   "mimetype": "text/x-python",
   "name": "python",
   "nbconvert_exporter": "python",
   "pygments_lexer": "ipython3",
   "version": "3.10.4"
  }
 },
 "nbformat": 4,
 "nbformat_minor": 5
}
